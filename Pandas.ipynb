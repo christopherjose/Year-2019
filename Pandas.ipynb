{
 "cells": [
  {
   "cell_type": "markdown",
   "metadata": {},
   "source": [
    "Move as quickly as possible through the below."
   ]
  },
  {
   "cell_type": "markdown",
   "metadata": {},
   "source": [
    "# Test Code Knowledge Box"
   ]
  },
  {
   "cell_type": "markdown",
   "metadata": {},
   "source": [
    "----------------------------------------"
   ]
  },
  {
   "cell_type": "markdown",
   "metadata": {},
   "source": [
    "scatterplot\n",
    "kernel density estimate\n",
    "distplot (=mpl's hist + KDE plot)\n",
    "boxplot"
   ]
  },
  {
   "cell_type": "code",
   "execution_count": 446,
   "metadata": {
    "collapsed": false
   },
   "outputs": [
    {
     "data": {
      "text/plain": [
       "<matplotlib.axes._subplots.AxesSubplot at 0x136327e50>"
      ]
     },
     "execution_count": 446,
     "metadata": {},
     "output_type": "execute_result"
    },
    {
     "data": {
      "text/plain": [
       "<matplotlib.legend.Legend at 0x13633e350>"
      ]
     },
     "execution_count": 446,
     "metadata": {},
     "output_type": "execute_result"
    },
    {
     "data": {
      "image/png": "[encoded data removed]",
      "text/plain": [
       "<matplotlib.figure.Figure at 0x13469f790>"
      ]
     },
     "metadata": {},
     "output_type": "display_data"
    }
   ],
   "source": [
    "sns.set_context(context='notebook',font_scale=1.4) #1.4\n",
    "sns.boxplot(y=titanic.age2,x=titanic.survived,hue=titanic.sex)\n",
    "plt.legend(bbox_to_anchor=(1,.7))"
   ]
  },
  {
   "cell_type": "code",
   "execution_count": 363,
   "metadata": {
    "collapsed": true
   },
   "outputs": [],
   "source": [
    "titanic.astype?"
   ]
  },
  {
   "cell_type": "code",
   "execution_count": 367,
   "metadata": {
    "collapsed": false
   },
   "outputs": [],
   "source": [
    "titanic.survived=titanic.astype({'survived':'category'})"
   ]
  },
  {
   "cell_type": "code",
   "execution_count": 368,
   "metadata": {
    "collapsed": true
   },
   "outputs": [],
   "source": [
    "titanic.survived=titanic.survived.astype('category')"
   ]
  },
  {
   "cell_type": "code",
   "execution_count": 322,
   "metadata": {
    "collapsed": true
   },
   "outputs": [
    {
     "ename": "ValueError",
     "evalue": "bins must increase monotonically.",
     "output_type": "error",
     "traceback": [
      "\u001b[0;31m---------------------------------------------------------------------------\u001b[0m",
      "\u001b[0;31mValueError\u001b[0m                                Traceback (most recent call last)",
      "\u001b[0;32m<ipython-input-322-be578054fddf>\u001b[0m in \u001b[0;36m<module>\u001b[0;34m()\u001b[0m\n\u001b[0;32m----> 1\u001b[0;31m \u001b[0msns\u001b[0m\u001b[0;34m.\u001b[0m\u001b[0mdistplot\u001b[0m\u001b[0;34m(\u001b[0m\u001b[0mtitanic\u001b[0m\u001b[0;34m.\u001b[0m\u001b[0mage2\u001b[0m\u001b[0;34m.\u001b[0m\u001b[0mdropna\u001b[0m\u001b[0;34m(\u001b[0m\u001b[0;34m)\u001b[0m\u001b[0;34m,\u001b[0m\u001b[0mtitanic\u001b[0m\u001b[0;34m.\u001b[0m\u001b[0mfare\u001b[0m\u001b[0;34m)\u001b[0m\u001b[0;34m\u001b[0m\u001b[0m\n\u001b[0m",
      "\u001b[0;32m/Users/Work/anaconda/envs/ipykernel_py3/lib/python2.7/site-packages/seaborn/distributions.pyc\u001b[0m in \u001b[0;36mdistplot\u001b[0;34m(a, bins, hist, kde, rug, fit, hist_kws, kde_kws, rug_kws, fit_kws, color, vertical, norm_hist, axlabel, label, ax)\u001b[0m\n\u001b[1;32m    223\u001b[0m         \u001b[0mhist_color\u001b[0m \u001b[0;34m=\u001b[0m \u001b[0mhist_kws\u001b[0m\u001b[0;34m.\u001b[0m\u001b[0mpop\u001b[0m\u001b[0;34m(\u001b[0m\u001b[0;34m\"color\"\u001b[0m\u001b[0;34m,\u001b[0m \u001b[0mcolor\u001b[0m\u001b[0;34m)\u001b[0m\u001b[0;34m\u001b[0m\u001b[0m\n\u001b[1;32m    224\u001b[0m         ax.hist(a, bins, orientation=orientation,\n\u001b[0;32m--> 225\u001b[0;31m                 color=hist_color, **hist_kws)\n\u001b[0m\u001b[1;32m    226\u001b[0m         \u001b[0;32mif\u001b[0m \u001b[0mhist_color\u001b[0m \u001b[0;34m!=\u001b[0m \u001b[0mcolor\u001b[0m\u001b[0;34m:\u001b[0m\u001b[0;34m\u001b[0m\u001b[0m\n\u001b[1;32m    227\u001b[0m             \u001b[0mhist_kws\u001b[0m\u001b[0;34m[\u001b[0m\u001b[0;34m\"color\"\u001b[0m\u001b[0;34m]\u001b[0m \u001b[0;34m=\u001b[0m \u001b[0mhist_color\u001b[0m\u001b[0;34m\u001b[0m\u001b[0m\n",
      "\u001b[0;32m/Users/Work/anaconda/envs/ipykernel_py3/lib/python2.7/site-packages/matplotlib/__init__.pyc\u001b[0m in \u001b[0;36minner\u001b[0;34m(ax, *args, **kwargs)\u001b[0m\n\u001b[1;32m   1896\u001b[0m                     warnings.warn(msg % (label_namer, func.__name__),\n\u001b[1;32m   1897\u001b[0m                                   RuntimeWarning, stacklevel=2)\n\u001b[0;32m-> 1898\u001b[0;31m             \u001b[0;32mreturn\u001b[0m \u001b[0mfunc\u001b[0m\u001b[0;34m(\u001b[0m\u001b[0max\u001b[0m\u001b[0;34m,\u001b[0m \u001b[0;34m*\u001b[0m\u001b[0margs\u001b[0m\u001b[0;34m,\u001b[0m \u001b[0;34m**\u001b[0m\u001b[0mkwargs\u001b[0m\u001b[0;34m)\u001b[0m\u001b[0;34m\u001b[0m\u001b[0m\n\u001b[0m\u001b[1;32m   1899\u001b[0m         \u001b[0mpre_doc\u001b[0m \u001b[0;34m=\u001b[0m \u001b[0minner\u001b[0m\u001b[0;34m.\u001b[0m\u001b[0m__doc__\u001b[0m\u001b[0;34m\u001b[0m\u001b[0m\n\u001b[1;32m   1900\u001b[0m         \u001b[0;32mif\u001b[0m \u001b[0mpre_doc\u001b[0m \u001b[0;32mis\u001b[0m \u001b[0mNone\u001b[0m\u001b[0;34m:\u001b[0m\u001b[0;34m\u001b[0m\u001b[0m\n",
      "\u001b[0;32m/Users/Work/anaconda/envs/ipykernel_py3/lib/python2.7/site-packages/matplotlib/axes/_axes.pyc\u001b[0m in \u001b[0;36mhist\u001b[0;34m(***failed resolving arguments***)\u001b[0m\n\u001b[1;32m   6193\u001b[0m             \u001b[0;31m# this will automatically overwrite bins,\u001b[0m\u001b[0;34m\u001b[0m\u001b[0;34m\u001b[0m\u001b[0m\n\u001b[1;32m   6194\u001b[0m             \u001b[0;31m# so that each histogram uses the same bins\u001b[0m\u001b[0;34m\u001b[0m\u001b[0;34m\u001b[0m\u001b[0m\n\u001b[0;32m-> 6195\u001b[0;31m             \u001b[0mm\u001b[0m\u001b[0;34m,\u001b[0m \u001b[0mbins\u001b[0m \u001b[0;34m=\u001b[0m \u001b[0mnp\u001b[0m\u001b[0;34m.\u001b[0m\u001b[0mhistogram\u001b[0m\u001b[0;34m(\u001b[0m\u001b[0mx\u001b[0m\u001b[0;34m[\u001b[0m\u001b[0mi\u001b[0m\u001b[0;34m]\u001b[0m\u001b[0;34m,\u001b[0m \u001b[0mbins\u001b[0m\u001b[0;34m,\u001b[0m \u001b[0mweights\u001b[0m\u001b[0;34m=\u001b[0m\u001b[0mw\u001b[0m\u001b[0;34m[\u001b[0m\u001b[0mi\u001b[0m\u001b[0;34m]\u001b[0m\u001b[0;34m,\u001b[0m \u001b[0;34m**\u001b[0m\u001b[0mhist_kwargs\u001b[0m\u001b[0;34m)\u001b[0m\u001b[0;34m\u001b[0m\u001b[0m\n\u001b[0m\u001b[1;32m   6196\u001b[0m             \u001b[0mm\u001b[0m \u001b[0;34m=\u001b[0m \u001b[0mm\u001b[0m\u001b[0;34m.\u001b[0m\u001b[0mastype\u001b[0m\u001b[0;34m(\u001b[0m\u001b[0mfloat\u001b[0m\u001b[0;34m)\u001b[0m  \u001b[0;31m# causes problems later if it's an int\u001b[0m\u001b[0;34m\u001b[0m\u001b[0m\n\u001b[1;32m   6197\u001b[0m             \u001b[0;32mif\u001b[0m \u001b[0mmlast\u001b[0m \u001b[0;32mis\u001b[0m \u001b[0mNone\u001b[0m\u001b[0;34m:\u001b[0m\u001b[0;34m\u001b[0m\u001b[0m\n",
      "\u001b[0;32m/Users/Work/anaconda/envs/ipykernel_py3/lib/python2.7/site-packages/numpy/lib/function_base.pyc\u001b[0m in \u001b[0;36mhistogram\u001b[0;34m(a, bins, range, normed, weights, density)\u001b[0m\n\u001b[1;32m    786\u001b[0m         \u001b[0;32mif\u001b[0m \u001b[0;34m(\u001b[0m\u001b[0mnp\u001b[0m\u001b[0;34m.\u001b[0m\u001b[0mdiff\u001b[0m\u001b[0;34m(\u001b[0m\u001b[0mbins\u001b[0m\u001b[0;34m)\u001b[0m \u001b[0;34m<\u001b[0m \u001b[0;36m0\u001b[0m\u001b[0;34m)\u001b[0m\u001b[0;34m.\u001b[0m\u001b[0many\u001b[0m\u001b[0;34m(\u001b[0m\u001b[0;34m)\u001b[0m\u001b[0;34m:\u001b[0m\u001b[0;34m\u001b[0m\u001b[0m\n\u001b[1;32m    787\u001b[0m             raise ValueError(\n\u001b[0;32m--> 788\u001b[0;31m                 'bins must increase monotonically.')\n\u001b[0m\u001b[1;32m    789\u001b[0m \u001b[0;34m\u001b[0m\u001b[0m\n\u001b[1;32m    790\u001b[0m         \u001b[0;31m# Initialize empty histogram\u001b[0m\u001b[0;34m\u001b[0m\u001b[0;34m\u001b[0m\u001b[0m\n",
      "\u001b[0;31mValueError\u001b[0m: bins must increase monotonically."
     ]
    },
    {
     "data": {
      "image/png": "[encoded data removed]",
      "text/plain": [
       "<matplotlib.figure.Figure at 0x124ce6450>"
      ]
     },
     "metadata": {},
     "output_type": "display_data"
    }
   ],
   "source": [
    "sns.distplot(titanic.age2.dropna(),titanic.fare)"
   ]
  },
  {
   "cell_type": "code",
   "execution_count": 130,
   "metadata": {
    "collapsed": true
   },
   "outputs": [
    {
     "data": {
      "text/plain": [
       "<seaborn.axisgrid.PairGrid at 0x1225d7910>"
      ]
     },
     "execution_count": 130,
     "metadata": {},
     "output_type": "execute_result"
    },
    {
     "data": {
      "text/plain": [
       "<seaborn.axisgrid.PairGrid at 0x1225d7910>"
      ]
     },
     "execution_count": 130,
     "metadata": {},
     "output_type": "execute_result"
    },
    {
     "data": {
      "image/png": "[encoded data removed]",
      "text/plain": [
       "<matplotlib.figure.Figure at 0x12272d8d0>"
      ]
     },
     "metadata": {},
     "output_type": "display_data"
    }
   ],
   "source": [
    "g=sns.PairGrid(titanic,vars=['age','fare'],hue='survived')\n",
    "g.map(plt.scatter,alpha=.3)\n",
    "g.add_legend()"
   ]
  },
  {
   "cell_type": "markdown",
   "metadata": {},
   "source": [
    "----------------------------------------"
   ]
  },
  {
   "cell_type": "markdown",
   "metadata": {},
   "source": [
    "# Pandas Operations"
   ]
  },
  {
   "cell_type": "markdown",
   "metadata": {},
   "source": [
    "Join/Combine\n",
    "1. <b>pd.concat</b> attaches datasets together (pd.concat([a,b],axis=0) append b as new rows)<br>\n",
    "2. <b> df.append() </b> pd.concat, but with axis=0 \n",
    "2. <b>pd.merge()</b> and <b>df.merge()</b> inner joins on cols (left_index, left_on, on, suffixes, how)\n",
    "3. <b>df.join()</b> left joins on indices (set_index, on, lsuffix, how)\n",
    "\n",
    "\n",
    "Basic Statistics - Counts\n",
    "2. <b> s.nlargest()</b> return n largest values (5 by default)\n",
    "3. <b> s.nsmallest() </b> return n smallest values (5 by default)\n",
    "6. <b> df.isnull().sum() </b> sums nulls for each column\n",
    "1. <b> s.value_counts() </b> view and count unique values (dropna=False)\n",
    "8. <b>(df.col//n*n).value_counts().sort_index().plot(kind='bar') </b> <br>\n",
    "Round numbers down to the nearest multiple of n and plot a sorted count<br>\n",
    "Bucket #s into [0,n],[n,2n], [3n,4n] then plots their sorted count\n",
    "\n",
    "\n",
    "Dataset Characteristics\n",
    "4. <b> df.info() </b> column datatypes and non-null count\n",
    "5. <b> df.describe() </b> summary stats of numericals\n",
    "7. <b> df.shape </b> returns (row count, col count)\n",
    "\n",
    "Data Preprocessing <br>\n",
    "NAs, binning, renaming, sorting, type converting, replacing\n",
    "\n",
    "1. <b> pd.cut(df.col, bins=4,labels=[]) </b> bucket variable into 4 bins\n",
    "2. <b> pd.get_dummies(df)</b> convert categoricals to dummies\n",
    "2. <b> df.dropna(thresh=n) </b> drop rows w/ < n nonnull columns (axis='columns')\n",
    "3. <b> df.col.dropna() </b> drop NA's from column\n",
    "3. <b> df.fillna(value=df.mean(),inplace=False) </b> fills NaN's with mean value\n",
    "4. <b> df.col.fillna(value=df.col.mean())</b>\n",
    "6. <b> df.rename(index=lambda x: x+'_1',inplace=True) </b> mass renaming of index\n",
    "7. <b> df.rename(columns={'old': 'new', 'old2':'new2'}, inplace=True)</b> rename cols\n",
    "7. <b> df.sort_values(['c1','c2'],ascending=[True, False])</b> sort dataframe\n",
    "8. <b> df.sort_values([,,]).reset_index(drop=True,inplace=)</b> sort+new index\n",
    "9. <b> df.astype({'col':'newtype',col2':'newtype2'}) </b> <br>\n",
    "4. <b> s.astype('category') </b> converts datatype (int16, int32, int64 categorical)\n",
    "5. <b> s.replace([1,3],['one','three']) </b> replace multiple unique values at the same time \n",
    "\n",
    "\n",
    "\n",
    "Statistical Procedures\n",
    "1. <b> pd.crosstab(df.x,df.y) </b> produces a frequency table </b> <br>\n",
    "5. <b> pd.crosstab(index=df.x, columns=[df.y, df.r, pd.cut(df.z,bins=4, labels=[''])]) </b> <br>\n",
    "index=df.x, group by y,r, binned z (y is at top, then r,...)\n",
    "2. <b> df.groupby(['col1'])['col2'].agg(['min','mean','max']) </b> show col2 stats groupby'd col1 </b>\n",
    "3. <b> df.pivot_table(index='c',values=[c1,c2], aggfunc='mean')</b> same as above but takes 1 aggfunc argument\n",
    "4. <b>df.agg([]) or s.agg([])</b>\n",
    "\n",
    "\n",
    "NumPy <br>\n",
    "<b> np.where(s=='male',1,0) </b> change array/column values according to if statement\n",
    "<b> np.where(s=='male')</b> return indices in column where 'male'"
   ]
  },
  {
   "cell_type": "markdown",
   "metadata": {},
   "source": [
    "# Use Cases of Above"
   ]
  },
  {
   "cell_type": "markdown",
   "metadata": {},
   "source": [
    "Data Preprocessing\n",
    "    1. dropna is useful for visualizations (you need to remove NAs)\n",
    "    "
   ]
  },
  {
   "cell_type": "markdown",
   "metadata": {},
   "source": [
    "# Seaborn "
   ]
  },
  {
   "cell_type": "code",
   "execution_count": 21,
   "metadata": {
    "collapsed": true
   },
   "outputs": [
    {
     "data": {
      "image/png": "[encoded data removed]",
      "text/plain": [
       "<matplotlib.figure.Figure at 0x11356c0d0>"
      ]
     },
     "metadata": {},
     "output_type": "display_data"
    },
    {
     "data": {
      "image/png": "[encoded data removed]",
      "text/plain": [
       "<matplotlib.figure.Figure at 0x1138a16d0>"
      ]
     },
     "metadata": {},
     "output_type": "display_data"
    },
    {
     "data": {
      "image/png": "[encoded data removed]",
      "text/plain": [
       "<matplotlib.figure.Figure at 0x113c63110>"
      ]
     },
     "metadata": {},
     "output_type": "display_data"
    },
    {
     "data": {
      "image/png": "[encoded data removed]",
      "text/plain": [
       "<matplotlib.figure.Figure at 0x113c98110>"
      ]
     },
     "metadata": {},
     "output_type": "display_data"
    },
    {
     "data": {
      "image/png": "[encoded data removed]",
      "text/plain": [
       "<matplotlib.figure.Figure at 0x113cc07d0>"
      ]
     },
     "metadata": {},
     "output_type": "display_data"
    },
    {
     "data": {
      "image/png": "[encoded data removed]",
      "text/plain": [
       "<matplotlib.figure.Figure at 0x113ce2a50>"
      ]
     },
     "metadata": {},
     "output_type": "display_data"
    },
    {
     "data": {
      "image/png": "[encoded data removed]",
      "text/plain": [
       "<matplotlib.figure.Figure at 0x113d22290>"
      ]
     },
     "metadata": {},
     "output_type": "display_data"
    }
   ],
   "source": [
    "sns.set_palette('tab10') #default palette\n",
    "sns.palplot(sns.color_palette(\"husl\", 8))\n",
    "sns.palplot(sns.color_palette(\"Set2\", 8))\n",
    "sns.palplot(sns.color_palette(\"Set3\", 8))\n",
    "sns.palplot(sns.color_palette(\"BuGn_r\", 8))\n",
    "sns.palplot(sns.color_palette(\"Blues\", 8))\n",
    "sns.palplot(sns.color_palette(\"GnBu_d\", 8))\n",
    "sns.palplot(sns.color_palette(\"cubehelix\", 8))"
   ]
  },
  {
   "cell_type": "markdown",
   "metadata": {},
   "source": [
    "<b> summary of seaborn tools </b> <br>\n",
    "All plots have data arguments except distplot, kdeplot\n",
    "All plots autodrop NaN except for distplot\n",
    "1. scatterplot (fit_reg)\n",
    "2. kdeplot (shade)\n",
    "3. distplot (hist+kdeplot, doesn't autodrop NaN)\n",
    "4. boxplot (hue,order,orient)\n",
    "5. catplot (box,barplot of means) (kind,col,hue,hue_order, col_order, order, orient, ci)\n",
    "6. jointplot (scatter & histograms)\n",
    "7. FacetGrid (g=sns.FacetGrid() then g.map(plt.scatter).add_legend()"
   ]
  },
  {
   "cell_type": "markdown",
   "metadata": {},
   "source": [
    "<i>Styling Options</i><br>\n",
    "<b>plt.figure(figsize=[15,5])</b> make wide figure <br>\n",
    "<b>sns.set_style('darkgrid') </b> set style to default ('white')<br>\n",
    "<b> sns.set_palette(sns.diverging_palette(128, 240, n=10))</b> <br>\n",
    "<b> sns.set_palette('Blues')</b> set palette before plotting<br>\n",
    "<b> sns.set_context(\"notebook\", font_scale=1.4) </b> up font size (1.4 for boxplots is standard)<br> \n",
    "\n",
    "<i>After Plotting Options</i> <br>\n",
    "<b>plt.xlim([,]) </b> <br>\n",
    "<b>plt.legend(title='',loc='upper right',labels=[]) </b> <br>\n",
    "<b>plt.title('') </b> \n",
    "\n",
    "\n",
    "<i> Visualizations</i><br>\n",
    "<b> sns.lmplot('x','y',data=df,fit_reg=False)  </b> scatterplot <br>\n",
    "<b> sns.kdeplot(df.x,shade=True)</b> density plot with shaded region (autodrops nulls) <br>\n",
    "<b> sns.distplot(df.x,kde=False,bins=n)</b> histogram <br>\n",
    "<b> sns.distplot(df.x.dropna())</b> density + histogram (doesn't autodrop nulls)<br> \n",
    "<b> sns.boxplot(x='', y='', data=df) </b> <br>\n",
    "<b> sns.boxplot(x=df.col, y=df.col, hue=df.col, palette ='Set3',order=['x1', 'x2'],orient='v | h') </b>  <br>\n",
    "for each x value, produce box plots for each hue value where each has a different color, and order boxplots from left-to-right according to x values 'x1','x2', make boxplots horizontal <br>\n",
    "\n",
    "<i>Catplots</i> <br>\n",
    "<b> sns.catplot(x=,y=, col=, hue=,kind='box'/'bar', data=df)</b> <br> plot boxplots / barplots in two adjacent windows  by col variable value <br>\n",
    "<b> g=sns.catplot('x','y',data=df,kind='bar', palette='',ci=None)</b> <br> make bar plot of mean 'y' for each categorical x value;ci removes error bars<br>\n",
    "<b> g=sns.catplot('x', data=df,kind='count')</b> Count of categorical x  <br>\n",
    "<b> args=(order,hue_order,col_order,orient,ci=None,kind=('bar',count,point,box,strip) </b>\n",
    "\n",
    "\n",
    "<b>g.set_ylabels('').set_xticklabels(['','']).fig.suptitle('',fontsize=20)</b> <br>\n",
    "fontsize isn't necessary if you use set_context<br>\n",
    "\n",
    "<i> Other Plots </i> <br>\n",
    "<b> sns.countplot('col',data=,hue='',order=df.col.value_counts().index) <br>\n",
    "sns.despine() </b> <br> removes borders from plot\n",
    "Produces a \"histogram\" for a category variable.  Order the columns by count size.\n",
    "\n",
    "<b> sns.pairplot(df,hue='col',size=4, vars=['',''])</b> <br> hists along diagonal of each specified (by hue col value) and scatterplots of each var x var <br>\n",
    "\n",
    "<i> Jointplot</i><br>\n",
    "<b>g=sns.jointplot('age','fare',data=titanic,kind='reg',ylim=300)<br>\n",
    "g.fig.axes[0].invert_yaxis()</b> <br>\n",
    "Plots points of 2 numerics as (kind=scatter, reg, kde, hex) with histograms and KD on sides\n",
    "\n",
    "\n",
    "\n",
    "<i> FacetGrid </i> <br>\n",
    "<b> grid = sns.FacetGrid(df,row='r',col='c', hue='', margin_titles=True, aspect,height) <br>\n",
    "grid.map(plt.scatter, 'x','y', edgecolor=\"w\")</b> <br>\n",
    "<b>grid.map(plt.hist, 'x', edgecolor=\"w\")</b> <br> \n",
    "<b>grid.map().add_legend().set_axis_labels('x','y')</b> <br>\n",
    "<b>grid.map().set(xlim=(),ylim=(),xticks=[],yticks=[])</b> </br>\n",
    "<b>grid.map().fig.subplots_adjust(wspace=.05, hspace=.05)) </b> <br>\n",
    "\n",
    "<b>FacetGrid args: col_order=['',''], palette='', hue_order=['',''], col_wrap=n, height=1.5 </b> <br>\n",
    "\n",
    "- plot a matrix of scatterplots of (x,y) for each (row,col) variable value, color coded by hue var <br>\n",
    "- plot a matrix of histograms of x for each (row,col) variable value, color coded by hue var <br>\n",
    "- add a legend for hue values, change x y axis labels <br>\n",
    "- change xlim/ylim and tick values<br>\n",
    "- tighten facets (bring them closer together <br>\n",
    "- col_wrap puts n col variable value plots in each row (if it has 20 values, then instead of 20 cols, 5 cols, you get 5 cols with (20/5) = 4 col values in each assuming no row='' variable <br>\n",
    "\n",
    "<i> Code Chunks </i> <br>\n",
    "<b> for col in ['col1','col2']: <br>\n",
    "     sns.kdeplot(df[col])</b> plot kde of 2 cols on top of one another\n",
    "\n"
   ]
  },
  {
   "cell_type": "markdown",
   "metadata": {},
   "source": [
    "# Sources"
   ]
  },
  {
   "cell_type": "markdown",
   "metadata": {},
   "source": [
    "https://www.dataquest.io/blog/pandas-cheat-sheet/ <br>\n",
    "https://s3.amazonaws.com/assets.datacamp.com/blog_assets/Numpy_Python_Cheat_Sheet.pdf <br>\n",
    "https://engineering.upside.com/a-beginners-guide-to-optimizing-pandas-code-for-speed-c09ef2c6a4d6 (numpy vectorization > pandas series vectorization > apply > itterrows > for loop) <br>\n",
    "https://tomaugspurger.github.io/modern-1-intro writing idiomatic pandas code <br>\n",
    "https://flothesof.github.io/optimizing-python-code-numpy-cython-pythran-numba.html optimize code via cython numba numpy\n",
    "https://towardsdatascience.com/bringing-the-best-out-of-jupyter-notebooks-for-data-science-f0871519ca29 collapsible headings <br>\n",
    "https://pandas.pydata.org/pandas-docs/stable/reference/api/pandas.Series.html series methods <br>"
   ]
  },
  {
   "cell_type": "markdown",
   "metadata": {},
   "source": [
    "# Principles"
   ]
  },
  {
   "cell_type": "markdown",
   "metadata": {},
   "source": [
    "1. Avoid for loops and use vectorization methods in pandas or numpy\n",
    "2. Numpy performs better than pandas for datasets having <50K rows\n",
    "3. Avoid df.apply() if possible.  Instead write functions that use numpy vectorized functions."
   ]
  },
  {
   "cell_type": "markdown",
   "metadata": {},
   "source": [
    "Vectorization wrt high languages (Python, Matlab, R) refers to the process of performing mathematical operations on data that are homogeneous in data type using a low-level language  (optimized, compiled C code in NumPy).  \n",
    "\n",
    "NumPy uses ND-arrays (N-dimensional arrays or arrays for short) that are purposely <i> homogeneous </i> in that they contain data of a single type, so that NumPy can then use vectorization in performing mathematical operations instead of Python for loops.  Vectorization (performing these operations in low-level C requires homogeneous data, which NumPy provides).\n",
    "\n",
    "NumPy uses vectorized functions (np.sum) which cue optimized C code to perform mathematical operations on entire arrays (instead of for loops), which take advantage of the fact that NumPy arrays are homogeneous.  Python for loops are slow because in each iteration, the data type is examined.\n",
    "\n",
    "https://www.pythonlikeyoumeanit.com/Module3_IntroducingNumpy/VectorizedOperations.html <br>"
   ]
  },
  {
   "cell_type": "markdown",
   "metadata": {},
   "source": [
    "# Datasets"
   ]
  },
  {
   "cell_type": "markdown",
   "metadata": {},
   "source": [
    "\n",
    "1. t1, t2 (join on name, family_name)\n",
    "2. caller, prospect (join on agent)\n",
    "3. scores, rand (join on index)\n",
    "4. chiporders=pd.read_table(\"http://bit.ly/chiporders\")\n",
    "5. titanic=pd.read_excel('/Users/Work/Desktop/Work/Projects/Datasets/titanic3.xls')\n"
   ]
  },
  {
   "cell_type": "markdown",
   "metadata": {},
   "source": [
    "# Datasets"
   ]
  },
  {
   "cell_type": "code",
   "execution_count": 649,
   "metadata": {
    "collapsed": true
   },
   "outputs": [],
   "source": [
    "drinks = pd.read_csv('http://bit.ly/drinksbycountry')\n",
    "chiporders=pd.read_table(\"http://bit.ly/chiporders\")\n",
    "titanic=pd.read_excel('/Users/Work/Desktop/Work/Projects/Datasets/titanic3.xls')"
   ]
  },
  {
   "cell_type": "code",
   "execution_count": 222,
   "metadata": {
    "collapsed": false
   },
   "outputs": [],
   "source": [
    "titanic=pd.read_excel('/Users/Work/Desktop/Work/Projects/Datasets/titanic3.xls')"
   ]
  },
  {
   "cell_type": "markdown",
   "metadata": {},
   "source": [
    "# How Can I?"
   ]
  },
  {
   "cell_type": "markdown",
   "metadata": {},
   "source": [
    "Produce a cross tabulation?"
   ]
  },
  {
   "cell_type": "markdown",
   "metadata": {},
   "source": [
    "----------------------------------------"
   ]
  },
  {
   "cell_type": "code",
   "execution_count": null,
   "metadata": {
    "collapsed": true
   },
   "outputs": [],
   "source": []
  },
  {
   "cell_type": "markdown",
   "metadata": {},
   "source": [
    "----------------------------------------"
   ]
  },
  {
   "cell_type": "code",
   "execution_count": 12,
   "metadata": {
    "collapsed": false
   },
   "outputs": [
    {
     "name": "stdout",
     "output_type": "stream",
     "text": [
      "This file is located in the following directory: \n",
      "/Users/Work/Desktop/Work/Projects/2019\n"
     ]
    }
   ],
   "source": [
    "%matplotlib inline\n",
    "import pandas as pd\n",
    "import matplotlib.pyplot as plt\n",
    "from timeit import timeit\n",
    "import numpy as np\n",
    "from IPython.core.interactiveshell import InteractiveShell\n",
    "import numpy as np\n",
    "import sklearn\n",
    "import seaborn as sns\n",
    "from pandasql import sqldf\n",
    "sql = lambda q: sqldf(q, globals()) \n",
    "import warnings\n",
    "import os as os\n",
    "warnings.filterwarnings('ignore')\n",
    "from IPython.display import display, HTML\n",
    "from IPython.core.interactiveshell import InteractiveShell\n",
    "InteractiveShell.ast_node_interactivity = \"all\"\n",
    "print('This file is located in the following directory: \\n'+os.getcwd())"
   ]
  },
  {
   "cell_type": "code",
   "execution_count": 652,
   "metadata": {
    "collapsed": false
   },
   "outputs": [
    {
     "data": {
      "text/html": [
       "from IPython.display import display, HTML\n",
       "\n",
       "\n",
       "<style type=\"text/css\">\n",
       "table.dataframe td, table.dataframe th {\n",
       "    border: 1px lightgray solid !important;\n",
       "    border-width: .01 !important; #remove borders\n",
       "    border-top: 0 !important;\n",
       "  color: black !important;\n",
       "    border-style: None;\n",
       "}\n",
       "</style>\n",
       "#add black borders (set 1px to 0 to remove them)\n",
       "\n",
       "#https://www.cssbasics.com/chapter_13_css_borders.html \n",
       "#^^^border settings"
      ],
      "text/plain": [
       "<IPython.core.display.HTML object>"
      ]
     },
     "metadata": {},
     "output_type": "display_data"
    }
   ],
   "source": [
    "%%HTML\n",
    "<style type=\"text/css\">\n",
    "table.dataframe td, table.dataframe th {\n",
    "    border: 1px lightgray solid !important;\n",
    "    border-width: .01 !important; #remove borders\n",
    "    border-top: 0 !important;\n",
    "  color: black !important;\n",
    "    border-style: None;\n",
    "}\n",
    "</style>\n",
    "#add black borders (set 1px to 0 to remove them)\n",
    "\n",
    "#https://www.cssbasics.com/chapter_13_css_borders.html \n",
    "#^^^border settings"
   ]
  },
  {
   "cell_type": "code",
   "execution_count": 2,
   "metadata": {
    "collapsed": false
   },
   "outputs": [],
   "source": [
    "df=pd.read_csv('/Users/Work/Desktop/Work/Projects/Datasets/iris.csv')"
   ]
  },
  {
   "cell_type": "code",
   "execution_count": 4,
   "metadata": {
    "collapsed": true
   },
   "outputs": [
    {
     "data": {
      "text/html": [
       "<div>\n",
       "<style>\n",
       "    .dataframe thead tr:only-child th {\n",
       "        text-align: right;\n",
       "    }\n",
       "\n",
       "    .dataframe thead th {\n",
       "        text-align: left;\n",
       "    }\n",
       "\n",
       "    .dataframe tbody tr th {\n",
       "        vertical-align: top;\n",
       "    }\n",
       "</style>\n",
       "<table border=\"1\" class=\"dataframe\">\n",
       "  <thead>\n",
       "    <tr style=\"text-align: right;\">\n",
       "      <th></th>\n",
       "      <th>Sepal.Length</th>\n",
       "      <th>Sepal.Width</th>\n",
       "      <th>Petal.Length</th>\n",
       "      <th>Petal.Width</th>\n",
       "      <th>Species</th>\n",
       "    </tr>\n",
       "  </thead>\n",
       "  <tbody>\n",
       "    <tr>\n",
       "      <th>0</th>\n",
       "      <td>5.1</td>\n",
       "      <td>3.5</td>\n",
       "      <td>1.4</td>\n",
       "      <td>0.2</td>\n",
       "      <td>setosa</td>\n",
       "    </tr>\n",
       "    <tr>\n",
       "      <th>1</th>\n",
       "      <td>4.9</td>\n",
       "      <td>3.0</td>\n",
       "      <td>1.4</td>\n",
       "      <td>0.2</td>\n",
       "      <td>setosa</td>\n",
       "    </tr>\n",
       "    <tr>\n",
       "      <th>2</th>\n",
       "      <td>4.7</td>\n",
       "      <td>3.2</td>\n",
       "      <td>1.3</td>\n",
       "      <td>0.2</td>\n",
       "      <td>setosa</td>\n",
       "    </tr>\n",
       "    <tr>\n",
       "      <th>3</th>\n",
       "      <td>4.6</td>\n",
       "      <td>3.1</td>\n",
       "      <td>1.5</td>\n",
       "      <td>0.2</td>\n",
       "      <td>setosa</td>\n",
       "    </tr>\n",
       "    <tr>\n",
       "      <th>4</th>\n",
       "      <td>5.0</td>\n",
       "      <td>3.6</td>\n",
       "      <td>1.4</td>\n",
       "      <td>0.2</td>\n",
       "      <td>setosa</td>\n",
       "    </tr>\n",
       "  </tbody>\n",
       "</table>\n",
       "</div>"
      ],
      "text/plain": [
       "   Sepal.Length  Sepal.Width  Petal.Length  Petal.Width Species\n",
       "0           5.1          3.5           1.4          0.2  setosa\n",
       "1           4.9          3.0           1.4          0.2  setosa\n",
       "2           4.7          3.2           1.3          0.2  setosa\n",
       "3           4.6          3.1           1.5          0.2  setosa\n",
       "4           5.0          3.6           1.4          0.2  setosa"
      ]
     },
     "execution_count": 4,
     "metadata": {},
     "output_type": "execute_result"
    },
    {
     "data": {
      "text/plain": [
       "Sepal.Length       5.1\n",
       "Sepal.Width        3.5\n",
       "Petal.Length       1.4\n",
       "Petal.Width        0.2\n",
       "Species         setosa\n",
       "Name: 0, dtype: object"
      ]
     },
     "execution_count": 4,
     "metadata": {},
     "output_type": "execute_result"
    },
    {
     "data": {
      "text/plain": [
       "Sepal.Length       5.1\n",
       "Sepal.Width        3.5\n",
       "Petal.Length       1.4\n",
       "Petal.Width        0.2\n",
       "Species         setosa\n",
       "Name: 0, dtype: object"
      ]
     },
     "execution_count": 4,
     "metadata": {},
     "output_type": "execute_result"
    }
   ],
   "source": [
    "df.iloc[:5,:]\n",
    "df.loc[0]\n",
    "df.iloc[0]\n",
    "s=df.sample(10).reset_index(drop=True)\n",
    "s2=df.sample(10)\n",
    "#s2.loc[0]) generates an error since 0 is not index name"
   ]
  },
  {
   "cell_type": "code",
   "execution_count": 4,
   "metadata": {
    "collapsed": false
   },
   "outputs": [],
   "source": [
    "sub1=df.iloc[:,0:2]\n",
    "sub2=df.iloc[:,2:]\n",
    "sub1.join(sub2,)\n",
    "sub1.join(sub2, on=None); #join by index by default"
   ]
  },
  {
   "cell_type": "markdown",
   "metadata": {},
   "source": [
    "## pd.concat"
   ]
  },
  {
   "cell_type": "code",
   "execution_count": 8,
   "metadata": {
    "collapsed": false
   },
   "outputs": [],
   "source": [
    "other = pd.DataFrame({'key': ['K0', 'K1', 'K2'],\n",
    "                       'B': ['B0', 'B1', 'B2']})\n",
    "caller = pd.DataFrame({'key': ['K0', 'K1', 'K2', 'K3', 'K4', 'K5'],\n",
    "                        'A': ['A0', 'A1', 'A2', 'A3', 'A4', 'A5']})\n",
    "caller2 = pd.DataFrame({'key': ['K0', 'K1', 'K2', 'K3', 'K4', 'K5'],\n",
    "                        'A': ['A0', 'A1', 'A2', 'A3', 'A4', 'A5']})\n",
    "other3=pd.DataFrame({'G':[1,2,3],'R':[4,5,6]})"
   ]
  },
  {
   "cell_type": "code",
   "execution_count": 46,
   "metadata": {
    "collapsed": false
   },
   "outputs": [
    {
     "data": {
      "text/html": [
       "<div>\n",
       "<style>\n",
       "    .dataframe thead tr:only-child th {\n",
       "        text-align: right;\n",
       "    }\n",
       "\n",
       "    .dataframe thead th {\n",
       "        text-align: left;\n",
       "    }\n",
       "\n",
       "    .dataframe tbody tr th {\n",
       "        vertical-align: top;\n",
       "    }\n",
       "</style>\n",
       "<table border=\"1\" class=\"dataframe\">\n",
       "  <thead>\n",
       "    <tr style=\"text-align: right;\">\n",
       "      <th></th>\n",
       "      <th>A</th>\n",
       "      <th>key</th>\n",
       "      <th>A</th>\n",
       "      <th>key</th>\n",
       "    </tr>\n",
       "  </thead>\n",
       "  <tbody>\n",
       "    <tr>\n",
       "      <th>0</th>\n",
       "      <td>A0</td>\n",
       "      <td>K0</td>\n",
       "      <td>A2</td>\n",
       "      <td>K1</td>\n",
       "    </tr>\n",
       "    <tr>\n",
       "      <th>1</th>\n",
       "      <td>A1</td>\n",
       "      <td>K1</td>\n",
       "      <td>A3</td>\n",
       "      <td>K2</td>\n",
       "    </tr>\n",
       "    <tr>\n",
       "      <th>2</th>\n",
       "      <td>A2</td>\n",
       "      <td>K2</td>\n",
       "      <td>NaN</td>\n",
       "      <td>NaN</td>\n",
       "    </tr>\n",
       "    <tr>\n",
       "      <th>3</th>\n",
       "      <td>A3</td>\n",
       "      <td>K3</td>\n",
       "      <td>NaN</td>\n",
       "      <td>NaN</td>\n",
       "    </tr>\n",
       "    <tr>\n",
       "      <th>4</th>\n",
       "      <td>A4</td>\n",
       "      <td>K4</td>\n",
       "      <td>NaN</td>\n",
       "      <td>NaN</td>\n",
       "    </tr>\n",
       "    <tr>\n",
       "      <th>5</th>\n",
       "      <td>A5</td>\n",
       "      <td>K5</td>\n",
       "      <td>NaN</td>\n",
       "      <td>NaN</td>\n",
       "    </tr>\n",
       "  </tbody>\n",
       "</table>\n",
       "</div>"
      ],
      "text/plain": [
       "    A key    A  key\n",
       "0  A0  K0   A2   K1\n",
       "1  A1  K1   A3   K2\n",
       "2  A2  K2  NaN  NaN\n",
       "3  A3  K3  NaN  NaN\n",
       "4  A4  K4  NaN  NaN\n",
       "5  A5  K5  NaN  NaN"
      ]
     },
     "execution_count": 46,
     "metadata": {},
     "output_type": "execute_result"
    }
   ],
   "source": [
    "pd.concat([caller,other2],axis=0) #adds other2 rows to bottom (as rows)\n",
    "pd.concat([caller,other2],axis=1) #adds other2 rows to side (as cols)"
   ]
  },
  {
   "cell_type": "markdown",
   "metadata": {},
   "source": [
    "# pd.merge and df.merge"
   ]
  },
  {
   "cell_type": "markdown",
   "metadata": {},
   "source": [
    "Inner joins by key columns by default (how='inner') (key column = non index column).  <br>\n",
    "Use left_index and left_on to specify columns or indices to join on. \n",
    "\n",
    "pd.merge() and df.merge() properties:\n",
    "\n",
    "1. joins on ALL shared COLUMN NAMES by DEFAULT and not indices\n",
    "2. joined columns are shown as one column in result-df\n",
    "3. join on both indices via left_index=True, right_index=True \n",
    "4. join on one index and one column via left_index=True and right_on='' \n",
    "5. join on columns with different names via left_on='' and right_on='' \n",
    "6. join on multiple keys via on=['key1','key2']\n",
    "7. join on multiple keys w/ diff. names via left_on=['',''], right_on=['','']\n",
    "8. specify join type via how='inner','left','right','outer'\n",
    "9. non-key joined columns w/ the same names are shown as name_x, name_y by default\n",
    "10.  change shared column names via suffix=[' _left','_right']\n",
    "\n",
    "df.merge() and df.join() are shortcut methods that use pd.merge()"
   ]
  },
  {
   "cell_type": "code",
   "execution_count": 132,
   "metadata": {
    "collapsed": true
   },
   "outputs": [],
   "source": [
    "#create dataframes to test on \n",
    "t1=pd.DataFrame([[59,170,'Christopher','Jose'],[57,180,'Anthony','Jose']],\n",
    "                columns=['height','weight','name','family_name'])\n",
    "t2=pd.DataFrame([[8,5,'Christopher','Jose'],[6,7,'Anthony','Jose']],\n",
    "                columns=['looks','diet','name','family_name'])\n",
    "\n",
    "t11=pd.DataFrame([[59,170,'Christopher','Jose'],[57,180,'Anthony','Jose']],\n",
    "                columns=['height','weight','name1','family_name1'])\n",
    "t22=pd.DataFrame([[8,5,'Christopher','Jose'],[6,7,'Anthony','Jose']],\n",
    "                columns=['looks','diet','name2','family_name2'])\n",
    "\n",
    "scores=pd.DataFrame([[4,7,2],[7,3,9]],columns=['diet','money','looks'])\n",
    "rand=pd.DataFrame([[1,1,2],[2,2,9]],columns=['rand1','rand2','rand3'])\n",
    "\n",
    "prospect = pd.DataFrame({'agent':['00','00','01','02'],\n",
    "                         'prospect':['p1','p2','p3','p4']})\n",
    "caller = pd.DataFrame({'call_center':['A','A','B','C'],\n",
    "                        'agent':['00','01','02','03'],\n",
    "                        'test_key':[0,1,2,3]})\n",
    "caller2 = pd.DataFrame({'call_center':['A','A','B','C'],\n",
    "                        'agent':['00','01','02','03'],\n",
    "                        'prospect':[0,1,2,3]})"
   ]
  },
  {
   "cell_type": "code",
   "execution_count": 174,
   "metadata": {
    "collapsed": false
   },
   "outputs": [
    {
     "data": {
      "text/html": [
       "<div>\n",
       "<style>\n",
       "    .dataframe thead tr:only-child th {\n",
       "        text-align: right;\n",
       "    }\n",
       "\n",
       "    .dataframe thead th {\n",
       "        text-align: left;\n",
       "    }\n",
       "\n",
       "    .dataframe tbody tr th {\n",
       "        vertical-align: top;\n",
       "    }\n",
       "</style>\n",
       "<table border=\"1\" class=\"dataframe\">\n",
       "  <thead>\n",
       "    <tr style=\"text-align: right;\">\n",
       "      <th></th>\n",
       "      <th>height</th>\n",
       "      <th>weight</th>\n",
       "      <th>name</th>\n",
       "      <th>family_name</th>\n",
       "      <th>looks</th>\n",
       "      <th>diet</th>\n",
       "    </tr>\n",
       "  </thead>\n",
       "  <tbody>\n",
       "    <tr>\n",
       "      <th>0</th>\n",
       "      <td>59</td>\n",
       "      <td>170</td>\n",
       "      <td>Christopher</td>\n",
       "      <td>Jose</td>\n",
       "      <td>8</td>\n",
       "      <td>5</td>\n",
       "    </tr>\n",
       "    <tr>\n",
       "      <th>1</th>\n",
       "      <td>57</td>\n",
       "      <td>180</td>\n",
       "      <td>Anthony</td>\n",
       "      <td>Jose</td>\n",
       "      <td>6</td>\n",
       "      <td>7</td>\n",
       "    </tr>\n",
       "  </tbody>\n",
       "</table>\n",
       "</div>"
      ],
      "text/plain": [
       "   height  weight         name family_name  looks  diet\n",
       "0      59     170  Christopher        Jose      8     5\n",
       "1      57     180      Anthony        Jose      6     7"
      ]
     },
     "execution_count": 174,
     "metadata": {},
     "output_type": "execute_result"
    },
    {
     "data": {
      "text/html": [
       "<div>\n",
       "<style>\n",
       "    .dataframe thead tr:only-child th {\n",
       "        text-align: right;\n",
       "    }\n",
       "\n",
       "    .dataframe thead th {\n",
       "        text-align: left;\n",
       "    }\n",
       "\n",
       "    .dataframe tbody tr th {\n",
       "        vertical-align: top;\n",
       "    }\n",
       "</style>\n",
       "<table border=\"1\" class=\"dataframe\">\n",
       "  <thead>\n",
       "    <tr style=\"text-align: right;\">\n",
       "      <th></th>\n",
       "      <th>height</th>\n",
       "      <th>weight</th>\n",
       "      <th>name</th>\n",
       "      <th>family_name</th>\n",
       "      <th>looks</th>\n",
       "      <th>diet</th>\n",
       "    </tr>\n",
       "  </thead>\n",
       "  <tbody>\n",
       "    <tr>\n",
       "      <th>0</th>\n",
       "      <td>59</td>\n",
       "      <td>170</td>\n",
       "      <td>Christopher</td>\n",
       "      <td>Jose</td>\n",
       "      <td>8</td>\n",
       "      <td>5</td>\n",
       "    </tr>\n",
       "    <tr>\n",
       "      <th>1</th>\n",
       "      <td>57</td>\n",
       "      <td>180</td>\n",
       "      <td>Anthony</td>\n",
       "      <td>Jose</td>\n",
       "      <td>6</td>\n",
       "      <td>7</td>\n",
       "    </tr>\n",
       "  </tbody>\n",
       "</table>\n",
       "</div>"
      ],
      "text/plain": [
       "   height  weight         name family_name  looks  diet\n",
       "0      59     170  Christopher        Jose      8     5\n",
       "1      57     180      Anthony        Jose      6     7"
      ]
     },
     "execution_count": 174,
     "metadata": {},
     "output_type": "execute_result"
    },
    {
     "data": {
      "text/html": [
       "<div>\n",
       "<style>\n",
       "    .dataframe thead tr:only-child th {\n",
       "        text-align: right;\n",
       "    }\n",
       "\n",
       "    .dataframe thead th {\n",
       "        text-align: left;\n",
       "    }\n",
       "\n",
       "    .dataframe tbody tr th {\n",
       "        vertical-align: top;\n",
       "    }\n",
       "</style>\n",
       "<table border=\"1\" class=\"dataframe\">\n",
       "  <thead>\n",
       "    <tr style=\"text-align: right;\">\n",
       "      <th></th>\n",
       "      <th>height</th>\n",
       "      <th>weight</th>\n",
       "      <th>name</th>\n",
       "      <th>family_name</th>\n",
       "      <th>looks</th>\n",
       "      <th>diet</th>\n",
       "    </tr>\n",
       "  </thead>\n",
       "  <tbody>\n",
       "    <tr>\n",
       "      <th>0</th>\n",
       "      <td>59</td>\n",
       "      <td>170</td>\n",
       "      <td>Christopher</td>\n",
       "      <td>Jose</td>\n",
       "      <td>8</td>\n",
       "      <td>5</td>\n",
       "    </tr>\n",
       "    <tr>\n",
       "      <th>1</th>\n",
       "      <td>57</td>\n",
       "      <td>180</td>\n",
       "      <td>Anthony</td>\n",
       "      <td>Jose</td>\n",
       "      <td>6</td>\n",
       "      <td>7</td>\n",
       "    </tr>\n",
       "  </tbody>\n",
       "</table>\n",
       "</div>"
      ],
      "text/plain": [
       "   height  weight         name family_name  looks  diet\n",
       "0      59     170  Christopher        Jose      8     5\n",
       "1      57     180      Anthony        Jose      6     7"
      ]
     },
     "execution_count": 174,
     "metadata": {},
     "output_type": "execute_result"
    }
   ],
   "source": [
    "# default method matches joining on two keys\n",
    "pd.merge(t1,t2)\n",
    "t1.merge(t2)\n",
    "t1.merge(t2,on=['name','family_name'])"
   ]
  },
  {
   "cell_type": "code",
   "execution_count": 177,
   "metadata": {
    "collapsed": false
   },
   "outputs": [
    {
     "data": {
      "text/html": [
       "<div>\n",
       "<style>\n",
       "    .dataframe thead tr:only-child th {\n",
       "        text-align: right;\n",
       "    }\n",
       "\n",
       "    .dataframe thead th {\n",
       "        text-align: left;\n",
       "    }\n",
       "\n",
       "    .dataframe tbody tr th {\n",
       "        vertical-align: top;\n",
       "    }\n",
       "</style>\n",
       "<table border=\"1\" class=\"dataframe\">\n",
       "  <thead>\n",
       "    <tr style=\"text-align: right;\">\n",
       "      <th></th>\n",
       "      <th>height</th>\n",
       "      <th>weight</th>\n",
       "      <th>name1</th>\n",
       "      <th>family_name1</th>\n",
       "      <th>looks</th>\n",
       "      <th>diet</th>\n",
       "      <th>name2</th>\n",
       "      <th>family_name2</th>\n",
       "    </tr>\n",
       "  </thead>\n",
       "  <tbody>\n",
       "    <tr>\n",
       "      <th>0</th>\n",
       "      <td>59</td>\n",
       "      <td>170</td>\n",
       "      <td>Christopher</td>\n",
       "      <td>Jose</td>\n",
       "      <td>8</td>\n",
       "      <td>5</td>\n",
       "      <td>Christopher</td>\n",
       "      <td>Jose</td>\n",
       "    </tr>\n",
       "    <tr>\n",
       "      <th>1</th>\n",
       "      <td>57</td>\n",
       "      <td>180</td>\n",
       "      <td>Anthony</td>\n",
       "      <td>Jose</td>\n",
       "      <td>6</td>\n",
       "      <td>7</td>\n",
       "      <td>Anthony</td>\n",
       "      <td>Jose</td>\n",
       "    </tr>\n",
       "  </tbody>\n",
       "</table>\n",
       "</div>"
      ],
      "text/plain": [
       "   height  weight        name1 family_name1  looks  diet        name2  \\\n",
       "0      59     170  Christopher         Jose      8     5  Christopher   \n",
       "1      57     180      Anthony         Jose      6     7      Anthony   \n",
       "\n",
       "  family_name2  \n",
       "0         Jose  \n",
       "1         Jose  "
      ]
     },
     "execution_count": 177,
     "metadata": {},
     "output_type": "execute_result"
    }
   ],
   "source": [
    "# joining on 2 keys with different names\n",
    "t11.merge(t22,left_on=['name1','family_name1'],\n",
    "         right_on=['name2','family_name2'])"
   ]
  },
  {
   "cell_type": "code",
   "execution_count": 170,
   "metadata": {
    "collapsed": false
   },
   "outputs": [
    {
     "data": {
      "text/html": [
       "<div>\n",
       "<style>\n",
       "    .dataframe thead tr:only-child th {\n",
       "        text-align: right;\n",
       "    }\n",
       "\n",
       "    .dataframe thead th {\n",
       "        text-align: left;\n",
       "    }\n",
       "\n",
       "    .dataframe tbody tr th {\n",
       "        vertical-align: top;\n",
       "    }\n",
       "</style>\n",
       "<table border=\"1\" class=\"dataframe\">\n",
       "  <thead>\n",
       "    <tr style=\"text-align: right;\">\n",
       "      <th></th>\n",
       "      <th>diet</th>\n",
       "      <th>money</th>\n",
       "      <th>looks</th>\n",
       "      <th>rand1</th>\n",
       "      <th>rand2</th>\n",
       "      <th>rand3</th>\n",
       "    </tr>\n",
       "  </thead>\n",
       "  <tbody>\n",
       "    <tr>\n",
       "      <th>0</th>\n",
       "      <td>4</td>\n",
       "      <td>7</td>\n",
       "      <td>2</td>\n",
       "      <td>1</td>\n",
       "      <td>1</td>\n",
       "      <td>2</td>\n",
       "    </tr>\n",
       "    <tr>\n",
       "      <th>1</th>\n",
       "      <td>7</td>\n",
       "      <td>3</td>\n",
       "      <td>9</td>\n",
       "      <td>2</td>\n",
       "      <td>2</td>\n",
       "      <td>9</td>\n",
       "    </tr>\n",
       "  </tbody>\n",
       "</table>\n",
       "</div>"
      ],
      "text/plain": [
       "   diet  money  looks  rand1  rand2  rand3\n",
       "0     4      7      2      1      1      2\n",
       "1     7      3      9      2      2      9"
      ]
     },
     "execution_count": 170,
     "metadata": {},
     "output_type": "execute_result"
    },
    {
     "data": {
      "text/html": [
       "<div>\n",
       "<style>\n",
       "    .dataframe thead tr:only-child th {\n",
       "        text-align: right;\n",
       "    }\n",
       "\n",
       "    .dataframe thead th {\n",
       "        text-align: left;\n",
       "    }\n",
       "\n",
       "    .dataframe tbody tr th {\n",
       "        vertical-align: top;\n",
       "    }\n",
       "</style>\n",
       "<table border=\"1\" class=\"dataframe\">\n",
       "  <thead>\n",
       "    <tr style=\"text-align: right;\">\n",
       "      <th></th>\n",
       "      <th>diet</th>\n",
       "      <th>money</th>\n",
       "      <th>looks</th>\n",
       "      <th>rand1</th>\n",
       "      <th>rand2</th>\n",
       "      <th>rand3</th>\n",
       "    </tr>\n",
       "  </thead>\n",
       "  <tbody>\n",
       "    <tr>\n",
       "      <th>0</th>\n",
       "      <td>4</td>\n",
       "      <td>7</td>\n",
       "      <td>2</td>\n",
       "      <td>1</td>\n",
       "      <td>1</td>\n",
       "      <td>2</td>\n",
       "    </tr>\n",
       "    <tr>\n",
       "      <th>1</th>\n",
       "      <td>7</td>\n",
       "      <td>3</td>\n",
       "      <td>9</td>\n",
       "      <td>2</td>\n",
       "      <td>2</td>\n",
       "      <td>9</td>\n",
       "    </tr>\n",
       "  </tbody>\n",
       "</table>\n",
       "</div>"
      ],
      "text/plain": [
       "   diet  money  looks  rand1  rand2  rand3\n",
       "0     4      7      2      1      1      2\n",
       "1     7      3      9      2      2      9"
      ]
     },
     "execution_count": 170,
     "metadata": {},
     "output_type": "execute_result"
    },
    {
     "data": {
      "text/plain": [
       "True"
      ]
     },
     "execution_count": 170,
     "metadata": {},
     "output_type": "execute_result"
    }
   ],
   "source": [
    "# (1) you can join on 1 index & 1 column \n",
    "# (2) you can join on indices \n",
    "# (3)no shared column names -> results in an eror\n",
    "\n",
    "scores.merge(rand,left_on='looks',right_on='rand3') #1\n",
    "scores.merge(rand,left_index=True,right_index=True) #2\n",
    "\n",
    "try: #3\n",
    "    scores.merge(rand)   \n",
    "except: \n",
    "    True"
   ]
  },
  {
   "cell_type": "code",
   "execution_count": 189,
   "metadata": {
    "collapsed": false
   },
   "outputs": [
    {
     "data": {
      "text/html": [
       "<div>\n",
       "<style>\n",
       "    .dataframe thead tr:only-child th {\n",
       "        text-align: right;\n",
       "    }\n",
       "\n",
       "    .dataframe thead th {\n",
       "        text-align: left;\n",
       "    }\n",
       "\n",
       "    .dataframe tbody tr th {\n",
       "        vertical-align: top;\n",
       "    }\n",
       "</style>\n",
       "<table border=\"1\" class=\"dataframe\">\n",
       "  <thead>\n",
       "    <tr style=\"text-align: right;\">\n",
       "      <th></th>\n",
       "      <th>agent</th>\n",
       "      <th>prospect</th>\n",
       "      <th>call_center</th>\n",
       "      <th>test_key</th>\n",
       "    </tr>\n",
       "  </thead>\n",
       "  <tbody>\n",
       "    <tr>\n",
       "      <th>0</th>\n",
       "      <td>00</td>\n",
       "      <td>p1</td>\n",
       "      <td>A</td>\n",
       "      <td>0</td>\n",
       "    </tr>\n",
       "    <tr>\n",
       "      <th>1</th>\n",
       "      <td>00</td>\n",
       "      <td>p2</td>\n",
       "      <td>A</td>\n",
       "      <td>0</td>\n",
       "    </tr>\n",
       "    <tr>\n",
       "      <th>2</th>\n",
       "      <td>01</td>\n",
       "      <td>p3</td>\n",
       "      <td>A</td>\n",
       "      <td>1</td>\n",
       "    </tr>\n",
       "    <tr>\n",
       "      <th>3</th>\n",
       "      <td>02</td>\n",
       "      <td>p4</td>\n",
       "      <td>B</td>\n",
       "      <td>2</td>\n",
       "    </tr>\n",
       "  </tbody>\n",
       "</table>\n",
       "</div>"
      ],
      "text/plain": [
       "  agent prospect call_center  test_key\n",
       "0    00       p1           A         0\n",
       "1    00       p2           A         0\n",
       "2    01       p3           A         1\n",
       "3    02       p4           B         2"
      ]
     },
     "execution_count": 189,
     "metadata": {},
     "output_type": "execute_result"
    }
   ],
   "source": [
    "prospect.merge(caller,on='agent')"
   ]
  },
  {
   "cell_type": "code",
   "execution_count": 187,
   "metadata": {
    "collapsed": false,
    "scrolled": false
   },
   "outputs": [
    {
     "data": {
      "text/html": [
       "<div>\n",
       "<style>\n",
       "    .dataframe thead tr:only-child th {\n",
       "        text-align: right;\n",
       "    }\n",
       "\n",
       "    .dataframe thead th {\n",
       "        text-align: left;\n",
       "    }\n",
       "\n",
       "    .dataframe tbody tr th {\n",
       "        vertical-align: top;\n",
       "    }\n",
       "</style>\n",
       "<table border=\"1\" class=\"dataframe\">\n",
       "  <thead>\n",
       "    <tr style=\"text-align: right;\">\n",
       "      <th></th>\n",
       "      <th>agent</th>\n",
       "      <th>prospect</th>\n",
       "      <th>call_center</th>\n",
       "      <th>test_key</th>\n",
       "    </tr>\n",
       "  </thead>\n",
       "  <tbody>\n",
       "    <tr>\n",
       "      <th>0</th>\n",
       "      <td>00</td>\n",
       "      <td>p1</td>\n",
       "      <td>A</td>\n",
       "      <td>0</td>\n",
       "    </tr>\n",
       "    <tr>\n",
       "      <th>1</th>\n",
       "      <td>00</td>\n",
       "      <td>p2</td>\n",
       "      <td>A</td>\n",
       "      <td>0</td>\n",
       "    </tr>\n",
       "    <tr>\n",
       "      <th>2</th>\n",
       "      <td>01</td>\n",
       "      <td>p3</td>\n",
       "      <td>A</td>\n",
       "      <td>1</td>\n",
       "    </tr>\n",
       "    <tr>\n",
       "      <th>3</th>\n",
       "      <td>02</td>\n",
       "      <td>p4</td>\n",
       "      <td>B</td>\n",
       "      <td>2</td>\n",
       "    </tr>\n",
       "  </tbody>\n",
       "</table>\n",
       "</div>"
      ],
      "text/plain": [
       "  agent prospect call_center  test_key\n",
       "0    00       p1           A         0\n",
       "1    00       p2           A         0\n",
       "2    01       p3           A         1\n",
       "3    02       p4           B         2"
      ]
     },
     "execution_count": 187,
     "metadata": {},
     "output_type": "execute_result"
    },
    {
     "data": {
      "text/html": [
       "<div>\n",
       "<style>\n",
       "    .dataframe thead tr:only-child th {\n",
       "        text-align: right;\n",
       "    }\n",
       "\n",
       "    .dataframe thead th {\n",
       "        text-align: left;\n",
       "    }\n",
       "\n",
       "    .dataframe tbody tr th {\n",
       "        vertical-align: top;\n",
       "    }\n",
       "</style>\n",
       "<table border=\"1\" class=\"dataframe\">\n",
       "  <thead>\n",
       "    <tr style=\"text-align: right;\">\n",
       "      <th></th>\n",
       "      <th>agent</th>\n",
       "      <th>call_center</th>\n",
       "      <th>test_key</th>\n",
       "      <th>prospect</th>\n",
       "    </tr>\n",
       "  </thead>\n",
       "  <tbody>\n",
       "    <tr>\n",
       "      <th>0</th>\n",
       "      <td>00</td>\n",
       "      <td>A</td>\n",
       "      <td>0</td>\n",
       "      <td>p1</td>\n",
       "    </tr>\n",
       "    <tr>\n",
       "      <th>1</th>\n",
       "      <td>00</td>\n",
       "      <td>A</td>\n",
       "      <td>0</td>\n",
       "      <td>p2</td>\n",
       "    </tr>\n",
       "    <tr>\n",
       "      <th>2</th>\n",
       "      <td>01</td>\n",
       "      <td>A</td>\n",
       "      <td>1</td>\n",
       "      <td>p3</td>\n",
       "    </tr>\n",
       "    <tr>\n",
       "      <th>3</th>\n",
       "      <td>02</td>\n",
       "      <td>B</td>\n",
       "      <td>2</td>\n",
       "      <td>p4</td>\n",
       "    </tr>\n",
       "    <tr>\n",
       "      <th>4</th>\n",
       "      <td>03</td>\n",
       "      <td>C</td>\n",
       "      <td>3</td>\n",
       "      <td>NaN</td>\n",
       "    </tr>\n",
       "  </tbody>\n",
       "</table>\n",
       "</div>"
      ],
      "text/plain": [
       "  agent call_center  test_key prospect\n",
       "0    00           A         0       p1\n",
       "1    00           A         0       p2\n",
       "2    01           A         1       p3\n",
       "3    02           B         2       p4\n",
       "4    03           C         3      NaN"
      ]
     },
     "execution_count": 187,
     "metadata": {},
     "output_type": "execute_result"
    },
    {
     "data": {
      "text/html": [
       "<div>\n",
       "<style>\n",
       "    .dataframe thead tr:only-child th {\n",
       "        text-align: right;\n",
       "    }\n",
       "\n",
       "    .dataframe thead th {\n",
       "        text-align: left;\n",
       "    }\n",
       "\n",
       "    .dataframe tbody tr th {\n",
       "        vertical-align: top;\n",
       "    }\n",
       "</style>\n",
       "<table border=\"1\" class=\"dataframe\">\n",
       "  <thead>\n",
       "    <tr style=\"text-align: right;\">\n",
       "      <th></th>\n",
       "      <th>agent_x</th>\n",
       "      <th>prospect</th>\n",
       "      <th>agent_y</th>\n",
       "      <th>call_center</th>\n",
       "      <th>test_key</th>\n",
       "    </tr>\n",
       "  </thead>\n",
       "  <tbody>\n",
       "    <tr>\n",
       "      <th>0</th>\n",
       "      <td>00</td>\n",
       "      <td>p1</td>\n",
       "      <td>00</td>\n",
       "      <td>A</td>\n",
       "      <td>0</td>\n",
       "    </tr>\n",
       "    <tr>\n",
       "      <th>1</th>\n",
       "      <td>00</td>\n",
       "      <td>p2</td>\n",
       "      <td>01</td>\n",
       "      <td>A</td>\n",
       "      <td>1</td>\n",
       "    </tr>\n",
       "    <tr>\n",
       "      <th>2</th>\n",
       "      <td>01</td>\n",
       "      <td>p3</td>\n",
       "      <td>02</td>\n",
       "      <td>B</td>\n",
       "      <td>2</td>\n",
       "    </tr>\n",
       "    <tr>\n",
       "      <th>3</th>\n",
       "      <td>02</td>\n",
       "      <td>p4</td>\n",
       "      <td>03</td>\n",
       "      <td>C</td>\n",
       "      <td>3</td>\n",
       "    </tr>\n",
       "  </tbody>\n",
       "</table>\n",
       "</div>"
      ],
      "text/plain": [
       "  agent_x prospect agent_y call_center  test_key\n",
       "0      00       p1      00           A         0\n",
       "1      00       p2      01           A         1\n",
       "2      01       p3      02           B         2\n",
       "3      02       p4      03           C         3"
      ]
     },
     "execution_count": 187,
     "metadata": {},
     "output_type": "execute_result"
    }
   ],
   "source": [
    "# (1) inner join on shared column name\n",
    "# (2) left join on shared column name\n",
    "# (3) join on index and column\n",
    "pd.merge(prospect,caller,on='agent') \n",
    "pd.merge(caller,prospect,on='agent',how='left') \n",
    "pd.merge(prospect,caller,left_index=True,right_on='test_key')"
   ]
  },
  {
   "cell_type": "code",
   "execution_count": 197,
   "metadata": {
    "collapsed": false
   },
   "outputs": [
    {
     "data": {
      "text/html": [
       "<div>\n",
       "<style>\n",
       "    .dataframe thead tr:only-child th {\n",
       "        text-align: right;\n",
       "    }\n",
       "\n",
       "    .dataframe thead th {\n",
       "        text-align: left;\n",
       "    }\n",
       "\n",
       "    .dataframe tbody tr th {\n",
       "        vertical-align: top;\n",
       "    }\n",
       "</style>\n",
       "<table border=\"1\" class=\"dataframe\">\n",
       "  <thead>\n",
       "    <tr style=\"text-align: right;\">\n",
       "      <th></th>\n",
       "      <th>agent</th>\n",
       "      <th>prospect_x</th>\n",
       "      <th>call_center</th>\n",
       "      <th>prospect_y</th>\n",
       "    </tr>\n",
       "  </thead>\n",
       "  <tbody>\n",
       "    <tr>\n",
       "      <th>0</th>\n",
       "      <td>00</td>\n",
       "      <td>p1</td>\n",
       "      <td>A</td>\n",
       "      <td>0</td>\n",
       "    </tr>\n",
       "    <tr>\n",
       "      <th>1</th>\n",
       "      <td>00</td>\n",
       "      <td>p2</td>\n",
       "      <td>A</td>\n",
       "      <td>0</td>\n",
       "    </tr>\n",
       "    <tr>\n",
       "      <th>2</th>\n",
       "      <td>01</td>\n",
       "      <td>p3</td>\n",
       "      <td>A</td>\n",
       "      <td>1</td>\n",
       "    </tr>\n",
       "    <tr>\n",
       "      <th>3</th>\n",
       "      <td>02</td>\n",
       "      <td>p4</td>\n",
       "      <td>B</td>\n",
       "      <td>2</td>\n",
       "    </tr>\n",
       "  </tbody>\n",
       "</table>\n",
       "</div>"
      ],
      "text/plain": [
       "  agent prospect_x call_center  prospect_y\n",
       "0    00         p1           A           0\n",
       "1    00         p2           A           0\n",
       "2    01         p3           A           1\n",
       "3    02         p4           B           2"
      ]
     },
     "execution_count": 197,
     "metadata": {},
     "output_type": "execute_result"
    },
    {
     "data": {
      "text/html": [
       "<div>\n",
       "<style>\n",
       "    .dataframe thead tr:only-child th {\n",
       "        text-align: right;\n",
       "    }\n",
       "\n",
       "    .dataframe thead th {\n",
       "        text-align: left;\n",
       "    }\n",
       "\n",
       "    .dataframe tbody tr th {\n",
       "        vertical-align: top;\n",
       "    }\n",
       "</style>\n",
       "<table border=\"1\" class=\"dataframe\">\n",
       "  <thead>\n",
       "    <tr style=\"text-align: right;\">\n",
       "      <th></th>\n",
       "      <th>agent</th>\n",
       "      <th>prospect_L</th>\n",
       "      <th>call_center</th>\n",
       "      <th>prospect_R</th>\n",
       "    </tr>\n",
       "  </thead>\n",
       "  <tbody>\n",
       "    <tr>\n",
       "      <th>0</th>\n",
       "      <td>00</td>\n",
       "      <td>p1</td>\n",
       "      <td>A</td>\n",
       "      <td>0</td>\n",
       "    </tr>\n",
       "    <tr>\n",
       "      <th>1</th>\n",
       "      <td>00</td>\n",
       "      <td>p2</td>\n",
       "      <td>A</td>\n",
       "      <td>0</td>\n",
       "    </tr>\n",
       "    <tr>\n",
       "      <th>2</th>\n",
       "      <td>01</td>\n",
       "      <td>p3</td>\n",
       "      <td>A</td>\n",
       "      <td>1</td>\n",
       "    </tr>\n",
       "    <tr>\n",
       "      <th>3</th>\n",
       "      <td>02</td>\n",
       "      <td>p4</td>\n",
       "      <td>B</td>\n",
       "      <td>2</td>\n",
       "    </tr>\n",
       "  </tbody>\n",
       "</table>\n",
       "</div>"
      ],
      "text/plain": [
       "  agent prospect_L call_center  prospect_R\n",
       "0    00         p1           A           0\n",
       "1    00         p2           A           0\n",
       "2    01         p3           A           1\n",
       "3    02         p4           B           2"
      ]
     },
     "execution_count": 197,
     "metadata": {},
     "output_type": "execute_result"
    }
   ],
   "source": [
    "pd.merge(prospect,caller2,on='agent')\n",
    "pd.merge(prospect,caller2,on='agent',suffixes=['_L','_R'])"
   ]
  },
  {
   "cell_type": "markdown",
   "metadata": {},
   "source": [
    "## df.join"
   ]
  },
  {
   "cell_type": "markdown",
   "metadata": {},
   "source": [
    "left joins by index and you must use right table's index (though you can set_index() to change both table's indices to key columns and on='' to join on left table's key column).\n",
    "\n",
    "1. Left joins on index by default.\n",
    "2. You can join on a key column of the left table via on='key', but you must join on right table's index.\n",
    "3. To join on key columns of both tables, just do df.set_index('key').\n",
    "4. Rename non-key columns with lsuffix= or rsuffix=\n",
    "5. Join on multiple key columns via set_index(['','']) and on=['','']\n",
    "6. If key columns have different names, left table's name is use\n",
    "7. on=None simply joins on left table's index (we always join to right table's index)"
   ]
  },
  {
   "cell_type": "code",
   "execution_count": 207,
   "metadata": {
    "collapsed": false
   },
   "outputs": [
    {
     "data": {
      "text/html": [
       "<div>\n",
       "<style>\n",
       "    .dataframe thead tr:only-child th {\n",
       "        text-align: right;\n",
       "    }\n",
       "\n",
       "    .dataframe thead th {\n",
       "        text-align: left;\n",
       "    }\n",
       "\n",
       "    .dataframe tbody tr th {\n",
       "        vertical-align: top;\n",
       "    }\n",
       "</style>\n",
       "<table border=\"1\" class=\"dataframe\">\n",
       "  <thead>\n",
       "    <tr style=\"text-align: right;\">\n",
       "      <th></th>\n",
       "      <th>diet</th>\n",
       "      <th>money</th>\n",
       "      <th>looks</th>\n",
       "      <th>rand1</th>\n",
       "      <th>rand2</th>\n",
       "      <th>rand3</th>\n",
       "    </tr>\n",
       "  </thead>\n",
       "  <tbody>\n",
       "    <tr>\n",
       "      <th>0</th>\n",
       "      <td>4</td>\n",
       "      <td>7</td>\n",
       "      <td>2</td>\n",
       "      <td>1</td>\n",
       "      <td>1</td>\n",
       "      <td>2</td>\n",
       "    </tr>\n",
       "    <tr>\n",
       "      <th>1</th>\n",
       "      <td>7</td>\n",
       "      <td>3</td>\n",
       "      <td>9</td>\n",
       "      <td>2</td>\n",
       "      <td>2</td>\n",
       "      <td>9</td>\n",
       "    </tr>\n",
       "  </tbody>\n",
       "</table>\n",
       "</div>"
      ],
      "text/plain": [
       "   diet  money  looks  rand1  rand2  rand3\n",
       "0     4      7      2      1      1      2\n",
       "1     7      3      9      2      2      9"
      ]
     },
     "execution_count": 207,
     "metadata": {},
     "output_type": "execute_result"
    }
   ],
   "source": [
    "# joins on index by default (merge failed since no common column names)\n",
    "scores.join(rand) "
   ]
  },
  {
   "cell_type": "code",
   "execution_count": 225,
   "metadata": {
    "collapsed": false
   },
   "outputs": [
    {
     "data": {
      "text/html": [
       "<div>\n",
       "<style>\n",
       "    .dataframe thead tr:only-child th {\n",
       "        text-align: right;\n",
       "    }\n",
       "\n",
       "    .dataframe thead th {\n",
       "        text-align: left;\n",
       "    }\n",
       "\n",
       "    .dataframe tbody tr th {\n",
       "        vertical-align: top;\n",
       "    }\n",
       "</style>\n",
       "<table border=\"1\" class=\"dataframe\">\n",
       "  <thead>\n",
       "    <tr style=\"text-align: right;\">\n",
       "      <th></th>\n",
       "      <th>agent</th>\n",
       "      <th>call_center</th>\n",
       "      <th>test_key</th>\n",
       "      <th>prospect</th>\n",
       "    </tr>\n",
       "  </thead>\n",
       "  <tbody>\n",
       "    <tr>\n",
       "      <th>0</th>\n",
       "      <td>00</td>\n",
       "      <td>A</td>\n",
       "      <td>0</td>\n",
       "      <td>p1</td>\n",
       "    </tr>\n",
       "    <tr>\n",
       "      <th>0</th>\n",
       "      <td>00</td>\n",
       "      <td>A</td>\n",
       "      <td>0</td>\n",
       "      <td>p2</td>\n",
       "    </tr>\n",
       "    <tr>\n",
       "      <th>1</th>\n",
       "      <td>01</td>\n",
       "      <td>A</td>\n",
       "      <td>1</td>\n",
       "      <td>p3</td>\n",
       "    </tr>\n",
       "    <tr>\n",
       "      <th>2</th>\n",
       "      <td>02</td>\n",
       "      <td>B</td>\n",
       "      <td>2</td>\n",
       "      <td>p4</td>\n",
       "    </tr>\n",
       "    <tr>\n",
       "      <th>3</th>\n",
       "      <td>03</td>\n",
       "      <td>C</td>\n",
       "      <td>3</td>\n",
       "      <td>NaN</td>\n",
       "    </tr>\n",
       "  </tbody>\n",
       "</table>\n",
       "</div>"
      ],
      "text/plain": [
       "  agent call_center  test_key prospect\n",
       "0    00           A         0       p1\n",
       "0    00           A         0       p2\n",
       "1    01           A         1       p3\n",
       "2    02           B         2       p4\n",
       "3    03           C         3      NaN"
      ]
     },
     "execution_count": 225,
     "metadata": {},
     "output_type": "execute_result"
    }
   ],
   "source": [
    "#join on left table's key column via on=()\n",
    "caller.join(prospect.set_index('agent'),on='agent')"
   ]
  },
  {
   "cell_type": "code",
   "execution_count": 226,
   "metadata": {
    "collapsed": false
   },
   "outputs": [
    {
     "data": {
      "text/html": [
       "<div>\n",
       "<style>\n",
       "    .dataframe thead tr:only-child th {\n",
       "        text-align: right;\n",
       "    }\n",
       "\n",
       "    .dataframe thead th {\n",
       "        text-align: left;\n",
       "    }\n",
       "\n",
       "    .dataframe tbody tr th {\n",
       "        vertical-align: top;\n",
       "    }\n",
       "</style>\n",
       "<table border=\"1\" class=\"dataframe\">\n",
       "  <thead>\n",
       "    <tr style=\"text-align: right;\">\n",
       "      <th></th>\n",
       "      <th>call_center</th>\n",
       "      <th>test_key</th>\n",
       "      <th>prospect</th>\n",
       "    </tr>\n",
       "    <tr>\n",
       "      <th>agent</th>\n",
       "      <th></th>\n",
       "      <th></th>\n",
       "      <th></th>\n",
       "    </tr>\n",
       "  </thead>\n",
       "  <tbody>\n",
       "    <tr>\n",
       "      <th>00</th>\n",
       "      <td>A</td>\n",
       "      <td>0</td>\n",
       "      <td>p1</td>\n",
       "    </tr>\n",
       "    <tr>\n",
       "      <th>00</th>\n",
       "      <td>A</td>\n",
       "      <td>0</td>\n",
       "      <td>p2</td>\n",
       "    </tr>\n",
       "    <tr>\n",
       "      <th>01</th>\n",
       "      <td>A</td>\n",
       "      <td>1</td>\n",
       "      <td>p3</td>\n",
       "    </tr>\n",
       "    <tr>\n",
       "      <th>02</th>\n",
       "      <td>B</td>\n",
       "      <td>2</td>\n",
       "      <td>p4</td>\n",
       "    </tr>\n",
       "    <tr>\n",
       "      <th>03</th>\n",
       "      <td>C</td>\n",
       "      <td>3</td>\n",
       "      <td>NaN</td>\n",
       "    </tr>\n",
       "  </tbody>\n",
       "</table>\n",
       "</div>"
      ],
      "text/plain": [
       "      call_center  test_key prospect\n",
       "agent                               \n",
       "00              A         0       p1\n",
       "00              A         0       p2\n",
       "01              A         1       p3\n",
       "02              B         2       p4\n",
       "03              C         3      NaN"
      ]
     },
     "execution_count": 226,
     "metadata": {},
     "output_type": "execute_result"
    }
   ],
   "source": [
    "#join on agent key columns of both tables \n",
    "caller.set_index('agent').join(prospect.set_index('agent'))"
   ]
  },
  {
   "cell_type": "code",
   "execution_count": 235,
   "metadata": {
    "collapsed": false
   },
   "outputs": [
    {
     "data": {
      "text/html": [
       "<div>\n",
       "<style>\n",
       "    .dataframe thead tr:only-child th {\n",
       "        text-align: right;\n",
       "    }\n",
       "\n",
       "    .dataframe thead th {\n",
       "        text-align: left;\n",
       "    }\n",
       "\n",
       "    .dataframe tbody tr th {\n",
       "        vertical-align: top;\n",
       "    }\n",
       "</style>\n",
       "<table border=\"1\" class=\"dataframe\">\n",
       "  <thead>\n",
       "    <tr style=\"text-align: right;\">\n",
       "      <th></th>\n",
       "      <th>agent_1</th>\n",
       "      <th>call_center</th>\n",
       "      <th>prospect_1</th>\n",
       "      <th>agent</th>\n",
       "      <th>prospect</th>\n",
       "    </tr>\n",
       "  </thead>\n",
       "  <tbody>\n",
       "    <tr>\n",
       "      <th>0</th>\n",
       "      <td>00</td>\n",
       "      <td>A</td>\n",
       "      <td>0</td>\n",
       "      <td>00</td>\n",
       "      <td>p1</td>\n",
       "    </tr>\n",
       "    <tr>\n",
       "      <th>1</th>\n",
       "      <td>01</td>\n",
       "      <td>A</td>\n",
       "      <td>1</td>\n",
       "      <td>00</td>\n",
       "      <td>p2</td>\n",
       "    </tr>\n",
       "    <tr>\n",
       "      <th>2</th>\n",
       "      <td>02</td>\n",
       "      <td>B</td>\n",
       "      <td>2</td>\n",
       "      <td>01</td>\n",
       "      <td>p3</td>\n",
       "    </tr>\n",
       "    <tr>\n",
       "      <th>3</th>\n",
       "      <td>03</td>\n",
       "      <td>C</td>\n",
       "      <td>3</td>\n",
       "      <td>02</td>\n",
       "      <td>p4</td>\n",
       "    </tr>\n",
       "  </tbody>\n",
       "</table>\n",
       "</div>"
      ],
      "text/plain": [
       "  agent_1 call_center  prospect_1 agent prospect\n",
       "0      00           A           0    00       p1\n",
       "1      01           A           1    00       p2\n",
       "2      02           B           2    01       p3\n",
       "3      03           C           3    02       p4"
      ]
     },
     "execution_count": 235,
     "metadata": {},
     "output_type": "execute_result"
    }
   ],
   "source": [
    "#any non-key columns w/ the same names must be renamed\n",
    "caller2.join(prospect,lsuffix='_1')"
   ]
  },
  {
   "cell_type": "code",
   "execution_count": 241,
   "metadata": {
    "collapsed": false,
    "scrolled": true
   },
   "outputs": [
    {
     "data": {
      "text/html": [
       "<div>\n",
       "<style>\n",
       "    .dataframe thead tr:only-child th {\n",
       "        text-align: right;\n",
       "    }\n",
       "\n",
       "    .dataframe thead th {\n",
       "        text-align: left;\n",
       "    }\n",
       "\n",
       "    .dataframe tbody tr th {\n",
       "        vertical-align: top;\n",
       "    }\n",
       "</style>\n",
       "<table border=\"1\" class=\"dataframe\">\n",
       "  <thead>\n",
       "    <tr style=\"text-align: right;\">\n",
       "      <th></th>\n",
       "      <th>height</th>\n",
       "      <th>weight</th>\n",
       "      <th>name1</th>\n",
       "      <th>family_name1</th>\n",
       "      <th>looks</th>\n",
       "      <th>diet</th>\n",
       "    </tr>\n",
       "  </thead>\n",
       "  <tbody>\n",
       "    <tr>\n",
       "      <th>0</th>\n",
       "      <td>59</td>\n",
       "      <td>170</td>\n",
       "      <td>Christopher</td>\n",
       "      <td>Jose</td>\n",
       "      <td>8</td>\n",
       "      <td>5</td>\n",
       "    </tr>\n",
       "    <tr>\n",
       "      <th>1</th>\n",
       "      <td>57</td>\n",
       "      <td>180</td>\n",
       "      <td>Anthony</td>\n",
       "      <td>Jose</td>\n",
       "      <td>6</td>\n",
       "      <td>7</td>\n",
       "    </tr>\n",
       "  </tbody>\n",
       "</table>\n",
       "</div>"
      ],
      "text/plain": [
       "   height  weight        name1 family_name1  looks  diet\n",
       "0      59     170  Christopher         Jose      8     5\n",
       "1      57     180      Anthony         Jose      6     7"
      ]
     },
     "execution_count": 241,
     "metadata": {},
     "output_type": "execute_result"
    }
   ],
   "source": [
    "# join on multiple key columns (final named key column is left column)\n",
    "t11.join(t22.set_index(['name2','family_name2']),\n",
    "                       on=['name1','family_name1'],\n",
    "                       how='inner')"
   ]
  },
  {
   "cell_type": "code",
   "execution_count": null,
   "metadata": {
    "collapsed": true
   },
   "outputs": [],
   "source": []
  },
  {
   "cell_type": "code",
   "execution_count": null,
   "metadata": {
    "collapsed": true
   },
   "outputs": [],
   "source": []
  },
  {
   "cell_type": "code",
   "execution_count": null,
   "metadata": {
    "collapsed": true
   },
   "outputs": [],
   "source": []
  },
  {
   "cell_type": "code",
   "execution_count": null,
   "metadata": {
    "collapsed": true
   },
   "outputs": [],
   "source": []
  },
  {
   "cell_type": "markdown",
   "metadata": {},
   "source": [
    "# Numpy vectorization speed vs other methods"
   ]
  },
  {
   "cell_type": "markdown",
   "metadata": {},
   "source": [
    "## If/then statements map(lambda function) vs np.where"
   ]
  },
  {
   "cell_type": "code",
   "execution_count": 325,
   "metadata": {
    "collapsed": false
   },
   "outputs": [],
   "source": [
    "def bin_it(x):\n",
    "    if x<20:\n",
    "        return 0 \n",
    "    elif x<40:\n",
    "        return 1\n",
    "    elif x<80:\n",
    "        return 2 \n",
    "    else:\n",
    "        return 3"
   ]
  },
  {
   "cell_type": "code",
   "execution_count": 338,
   "metadata": {
    "collapsed": false
   },
   "outputs": [],
   "source": [
    "def vectorized_bin_it(x):\n",
    "    return np.where(x<20,0,\n",
    "             np.where(x<40,1,\n",
    "                     np.where(x<80,2,3)))"
   ]
  },
  {
   "cell_type": "code",
   "execution_count": 348,
   "metadata": {
    "collapsed": false,
    "scrolled": true
   },
   "outputs": [
    {
     "data": {
      "text/plain": [
       "array([ True], dtype=bool)"
      ]
     },
     "execution_count": 348,
     "metadata": {},
     "output_type": "execute_result"
    }
   ],
   "source": [
    "#check if both methods return same values \n",
    "np.unique(titanic.age.map(bin_it).values==\\\n",
    "          vectorized_bin_it(titanic.age))"
   ]
  },
  {
   "cell_type": "code",
   "execution_count": 358,
   "metadata": {
    "collapsed": false,
    "scrolled": true
   },
   "outputs": [
    {
     "name": "stdout",
     "output_type": "stream",
     "text": [
      "The slowest run took 6.34 times longer than the fastest. This could mean that an intermediate result is being cached.\n",
      "100 loops, best of 3: 1.31 ms per loop\n"
     ]
    }
   ],
   "source": [
    "%%timeit\n",
    "titanic.age.map(bin_it)"
   ]
  },
  {
   "cell_type": "code",
   "execution_count": 359,
   "metadata": {
    "collapsed": false
   },
   "outputs": [
    {
     "name": "stdout",
     "output_type": "stream",
     "text": [
      "The slowest run took 5.12 times longer than the fastest. This could mean that an intermediate result is being cached.\n",
      "100 loops, best of 3: 928 µs per loop\n"
     ]
    }
   ],
   "source": [
    "%%timeit\n",
    "vectorized_bin_it(titanic.age)"
   ]
  },
  {
   "cell_type": "code",
   "execution_count": null,
   "metadata": {
    "collapsed": true
   },
   "outputs": [],
   "source": [
    "np.log10"
   ]
  },
  {
   "cell_type": "markdown",
   "metadata": {},
   "source": [
    "## map() vs np.log10"
   ]
  },
  {
   "cell_type": "code",
   "execution_count": 365,
   "metadata": {
    "collapsed": false
   },
   "outputs": [
    {
     "name": "stdout",
     "output_type": "stream",
     "text": [
      "100 loops, best of 3: 6.19 ms per loop\n"
     ]
    }
   ],
   "source": [
    "%%timeit\n",
    "titanic.age.map(lambda x: np.log(x))"
   ]
  },
  {
   "cell_type": "code",
   "execution_count": 364,
   "metadata": {
    "collapsed": false
   },
   "outputs": [
    {
     "name": "stdout",
     "output_type": "stream",
     "text": [
      "100 loops, best of 3: 4.17 ms per loop\n"
     ]
    }
   ],
   "source": [
    "%%timeit\n",
    "np.log(titanic.age.map(lambda x: np.log(x)))"
   ]
  },
  {
   "cell_type": "markdown",
   "metadata": {},
   "source": [
    "## map vs np"
   ]
  },
  {
   "cell_type": "code",
   "execution_count": 372,
   "metadata": {
    "collapsed": true
   },
   "outputs": [],
   "source": [
    "def vectorized_operation(x):\n",
    "    np.sum(x)/np.count_nonzero(x)"
   ]
  },
  {
   "cell_type": "code",
   "execution_count": 385,
   "metadata": {
    "collapsed": false
   },
   "outputs": [
    {
     "name": "stdout",
     "output_type": "stream",
     "text": [
      "10 loops, best of 3: 26.2 ms per loop\n"
     ]
    }
   ],
   "source": [
    "%%timeit #SUPER SLOW compared to other methods\n",
    "titanic.age.map(lambda x: np.sum(x)/np.count_nonzero(x))"
   ]
  },
  {
   "cell_type": "code",
   "execution_count": 379,
   "metadata": {
    "collapsed": false
   },
   "outputs": [
    {
     "name": "stdout",
     "output_type": "stream",
     "text": [
      "1000 loops, best of 3: 262 µs per loop\n"
     ]
    }
   ],
   "source": [
    "%%timeit\n",
    "titanic.age.sum()/titanic.age.count()"
   ]
  },
  {
   "cell_type": "code",
   "execution_count": 380,
   "metadata": {
    "collapsed": false
   },
   "outputs": [
    {
     "name": "stdout",
     "output_type": "stream",
     "text": [
      "1000 loops, best of 3: 242 µs per loop\n"
     ]
    }
   ],
   "source": [
    "%%timeit\n",
    "vectorized_operation(titanic.age)"
   ]
  },
  {
   "cell_type": "markdown",
   "metadata": {},
   "source": [
    "## np vs pd.eval vs pandas"
   ]
  },
  {
   "cell_type": "code",
   "execution_count": 390,
   "metadata": {
    "collapsed": false
   },
   "outputs": [
    {
     "name": "stdout",
     "output_type": "stream",
     "text": [
      "10000 loops, best of 3: 122 µs per loop\n"
     ]
    }
   ],
   "source": [
    "%%timeit\n",
    "np.square(titanic.age)"
   ]
  },
  {
   "cell_type": "code",
   "execution_count": 393,
   "metadata": {
    "collapsed": false
   },
   "outputs": [
    {
     "name": "stdout",
     "output_type": "stream",
     "text": [
      "The slowest run took 5.29 times longer than the fastest. This could mean that an intermediate result is being cached.\n",
      "1000 loops, best of 3: 922 µs per loop\n"
     ]
    }
   ],
   "source": [
    "%%timeit\n",
    "pd.eval('titanic.age*2')"
   ]
  },
  {
   "cell_type": "code",
   "execution_count": 394,
   "metadata": {
    "collapsed": false
   },
   "outputs": [
    {
     "name": "stdout",
     "output_type": "stream",
     "text": [
      "1000 loops, best of 3: 326 µs per loop\n"
     ]
    }
   ],
   "source": [
    "%%timeit\n",
    "titanic.age*2"
   ]
  },
  {
   "cell_type": "markdown",
   "metadata": {},
   "source": [
    "# Seaborn"
   ]
  },
  {
   "cell_type": "code",
   "execution_count": 110,
   "metadata": {
    "collapsed": false
   },
   "outputs": [
    {
     "data": {
      "text/plain": [
       "<seaborn.axisgrid.FacetGrid at 0x11a7b8c50>"
      ]
     },
     "execution_count": 110,
     "metadata": {},
     "output_type": "execute_result"
    },
    {
     "data": {
      "text/plain": [
       "<seaborn.axisgrid.FacetGrid at 0x11a7b8c50>"
      ]
     },
     "execution_count": 110,
     "metadata": {},
     "output_type": "execute_result"
    },
    {
     "data": {
      "text/plain": [
       "<matplotlib.text.Text at 0x1193da910>"
      ]
     },
     "execution_count": 110,
     "metadata": {},
     "output_type": "execute_result"
    },
    {
     "data": {
      "image/png": "[encoded data removed]",
      "text/plain": [
       "<matplotlib.figure.Figure at 0x117907ad0>"
      ]
     },
     "metadata": {},
     "output_type": "display_data"
    }
   ],
   "source": [
    "sns.set_style('white')\n",
    "sns.set_context(\"notebook\", font_scale=1.5) #\n",
    "g=sns.catplot('pclass','fare',hue='survived',\n",
    "            data=titanic,aspect=2,kind='bar',\n",
    "          palette='husl')\n",
    "\n",
    "g.set_ylabels('Ticket Price',fontsize=15)\n",
    "g.set_xticklabels(['First Class', 'Second Class', 'Third Class'],\n",
    "                 fontsize=15)\n",
    "g.fig.suptitle('Average Ticket Price by Class and Survived',\n",
    "              fontsize=20)"
   ]
  },
  {
   "cell_type": "code",
   "execution_count": 124,
   "metadata": {
    "collapsed": false
   },
   "outputs": [
    {
     "data": {
      "text/plain": [
       "<seaborn.axisgrid.FacetGrid at 0x120962390>"
      ]
     },
     "execution_count": 124,
     "metadata": {},
     "output_type": "execute_result"
    },
    {
     "data": {
      "text/plain": [
       "<seaborn.axisgrid.FacetGrid at 0x120962390>"
      ]
     },
     "execution_count": 124,
     "metadata": {},
     "output_type": "execute_result"
    },
    {
     "data": {
      "text/plain": [
       "<matplotlib.text.Text at 0x11ff52dd0>"
      ]
     },
     "execution_count": 124,
     "metadata": {},
     "output_type": "execute_result"
    },
    {
     "data": {
      "image/png": "[encoded data removed]",
      "text/plain": [
       "<matplotlib.figure.Figure at 0x11f9c9210>"
      ]
     },
     "metadata": {},
     "output_type": "display_data"
    }
   ],
   "source": [
    "sns.set_style('white')\n",
    "sns.set_context(\"notebook\", font_scale=1.5) #\n",
    "g=sns.catplot('pclass',hue='survived',\n",
    "            data=titanic,aspect=2,kind='count',\n",
    "          palette='husl')\n",
    "\n",
    "g.set_ylabels('pclass count')\n",
    "g.set_xticklabels(['First Class', 'Second Class', 'Third Class'])\n",
    "g.fig.suptitle('Count of pclass by survived')"
   ]
  }
 ],
 "metadata": {
  "kernelspec": {
   "display_name": "Python 3",
   "language": "python",
   "name": "python3"
  },
  "language_info": {
   "codemirror_mode": {
    "name": "ipython",
    "version": 2
   },
   "file_extension": ".py",
   "mimetype": "text/x-python",
   "name": "python",
   "nbconvert_exporter": "python",
   "pygments_lexer": "ipython2",
   "version": "2.7.3"
  }
 },
 "nbformat": 4,
 "nbformat_minor": 2
}
